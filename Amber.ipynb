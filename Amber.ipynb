{
  "nbformat": 4,
  "nbformat_minor": 0,
  "metadata": {
    "accelerator": "GPU",
    "colab": {
      "provenance": [],
      "include_colab_link": true
    },
    "kernelspec": {
      "display_name": "Python 3",
      "name": "python3"
    }
  },
  "cells": [
    {
      "cell_type": "markdown",
      "metadata": {
        "id": "view-in-github",
        "colab_type": "text"
      },
      "source": [
        "<a href=\"https://colab.research.google.com/github/yufanwang2008/molecular_dynamics/blob/main/Amber.ipynb\" target=\"_parent\"><img src=\"https://colab.research.google.com/assets/colab-badge.svg\" alt=\"Open In Colab\"/></a>"
      ]
    },
    {
      "cell_type": "code",
      "source": [
        "#@title **Install Conda Colab**\n",
        "#@markdown It will restart the kernel (session), don't worry.\n",
        "!pip install -q condacolab\n",
        "import condacolab\n",
        "condacolab.install()"
      ],
      "metadata": {
        "cellView": "form",
        "id": "mBFASF7ICxWi",
        "outputId": "643021f7-2097-47de-9935-4344f6946a81",
        "colab": {
          "base_uri": "https://localhost:8080/"
        }
      },
      "execution_count": null,
      "outputs": [
        {
          "output_type": "stream",
          "name": "stdout",
          "text": [
            "✨🍰✨ Everything looks OK!\n"
          ]
        }
      ]
    },
    {
      "cell_type": "code",
      "source": [
        "#@title **Install dependencies**\n",
        "#@markdown It will take a few minutes, please, drink a coffee and wait. ;-)\n",
        "# install dependencies\n",
        "import subprocess\n",
        "import sys\n",
        "subprocess.run(\"rm -rf /usr/local/conda-meta/pinned\", shell=True)\n",
        "subprocess.run(\"mamba install -c conda-forge ambertools -y\", shell=True)\n",
        "import pytraj as pt\n",
        "subprocess.run(\"pip -q install py3Dmol\", shell=True)\n",
        "subprocess.run(\"pip install git+https://github.com/pablo-arantes/biopandas\", shell=True)\n",
        "subprocess.run(\"mamba install openmm\", shell=True)\n",
        "subprocess.run(\"pip install --upgrade MDAnalysis\", shell=True)\n",
        "\n",
        "#load dependencies\n",
        "import sys\n",
        "from biopandas.pdb import PandasPdb\n",
        "import openmm as mm\n",
        "from openmm import *\n",
        "from openmm.app import *\n",
        "from openmm.unit import *\n",
        "import os\n",
        "import urllib.request\n",
        "import numpy as np\n",
        "import MDAnalysis as mda\n",
        "import py3Dmol\n",
        "import pytraj as pt\n",
        "import platform\n",
        "import scipy.cluster.hierarchy\n",
        "from scipy.spatial.distance import squareform\n",
        "import scipy.stats as stats\n",
        "import matplotlib.pyplot as plt\n",
        "import pandas as pd\n",
        "from scipy.interpolate import griddata\n",
        "import seaborn as sb\n",
        "from statistics import mean, stdev\n",
        "from pytraj import matrix\n",
        "from matplotlib import colors\n",
        "from IPython.display import set_matplotlib_formats\n",
        "import subprocess"
      ],
      "metadata": {
        "cellView": "form",
        "id": "n0XmYfH1C2we"
      },
      "execution_count": null,
      "outputs": []
    },
    {
      "cell_type": "markdown",
      "metadata": {
        "id": "fDQnAKJLFxtt"
      },
      "source": [
        "## Using Google Drive to store simulation data\n",
        "\n",
        "Google Colab does not allow users to keep data on their computing nodes. However, we can use Google Drive to read, write, and store our simulations files. Therefore, we suggest to you to:\n",
        "\n",
        "1.   Create a folder in your own Google Drive and copy the necessary input files there.\n",
        "2.   Copy the path of your created directory. We will use it below."
      ]
    },
    {
      "cell_type": "code",
      "metadata": {
        "id": "Lm7Akepv_vl-",
        "cellView": "form",
        "outputId": "5fa97a88-6172-4403-8cac-191f23825e16",
        "colab": {
          "base_uri": "https://localhost:8080/"
        }
      },
      "source": [
        "#@title ### **Import Google Drive**\n",
        "#@markdown Click in the \"Run\" buttom to make your Google Drive accessible.\n",
        "from google.colab import drive\n",
        "\n",
        "drive.flush_and_unmount()\n",
        "drive.mount('/content/drive', force_remount=True)"
      ],
      "execution_count": null,
      "outputs": [
        {
          "output_type": "stream",
          "name": "stdout",
          "text": [
            "Mounted at /content/drive\n"
          ]
        }
      ]
    },
    {
      "cell_type": "code",
      "metadata": {
        "id": "lOKg9eH_ueRn",
        "outputId": "95d1f70c-e545-41d2-f2d3-6c6bf2f75a23",
        "colab": {
          "base_uri": "https://localhost:8080/"
        }
      },
      "source": [
        "#@title **Check if you correctly allocated GPU nodes**\n",
        "\n",
        "gpu_info = !nvidia-smi\n",
        "gpu_info = '\\n'.join(gpu_info)\n",
        "if gpu_info.find('failed') >= 0:\n",
        "  print('Select the Runtime > \"Change runtime type\" menu to enable a GPU accelerator, ')\n",
        "  print('and then re-execute this cell.')\n",
        "else:\n",
        "  print(gpu_info)"
      ],
      "execution_count": null,
      "outputs": [
        {
          "output_type": "stream",
          "name": "stdout",
          "text": [
            "Thu Jul 17 21:57:27 2025       \n",
            "+-----------------------------------------------------------------------------------------+\n",
            "| NVIDIA-SMI 550.54.15              Driver Version: 550.54.15      CUDA Version: 12.4     |\n",
            "|-----------------------------------------+------------------------+----------------------+\n",
            "| GPU  Name                 Persistence-M | Bus-Id          Disp.A | Volatile Uncorr. ECC |\n",
            "| Fan  Temp   Perf          Pwr:Usage/Cap |           Memory-Usage | GPU-Util  Compute M. |\n",
            "|                                         |                        |               MIG M. |\n",
            "|=========================================+========================+======================|\n",
            "|   0  Tesla T4                       Off |   00000000:00:04.0 Off |                    0 |\n",
            "| N/A   71C    P0             29W /   70W |     202MiB /  15360MiB |      0%      Default |\n",
            "|                                         |                        |                  N/A |\n",
            "+-----------------------------------------+------------------------+----------------------+\n",
            "                                                                                         \n",
            "+-----------------------------------------------------------------------------------------+\n",
            "| Processes:                                                                              |\n",
            "|  GPU   GI   CI        PID   Type   Process name                              GPU Memory |\n",
            "|        ID   ID                                                               Usage      |\n",
            "|=========================================================================================|\n",
            "+-----------------------------------------------------------------------------------------+\n"
          ]
        }
      ]
    },
    {
      "cell_type": "markdown",
      "source": [],
      "metadata": {
        "id": "TmmP_e_qkN34"
      }
    },
    {
      "cell_type": "code",
      "source": [
        "#@title **From SDF to RMSD**\n",
        "# STEP 1: Setup\n",
        "compound_id = '' #@param {type:\"string\"}\n",
        "sdf_file = f\"/content/drive/MyDrive/molecular_dynamics/{compound_id}.sdf\"\n",
        "workDir = \"/content/drive/MyDrive/molecular_dynamics\"\n",
        "os.makedirs(workDir, exist_ok=True)\n",
        "\n",
        "# STEP 2: AmberTools setup\n",
        "!conda install -y -c conda-forge ambertools > /dev/null\n",
        "\n",
        "# STEP 3: Convert SDF to mol2 and frcmod\n",
        "!cp {sdf_file} /content/\n",
        "!antechamber -i {compound_id}.sdf -fi sdf -o {compound_id}.mol2 -fo mol2 -c bcc -s 2 -at gaff -nc 0 -m 1\n",
        "!parmchk2 -i {compound_id}.mol2 -f mol2 -o {compound_id}.frcmod\n",
        "\n",
        "# STEP 4: Solvate with tleap\n",
        "tleap_input = f\"\"\"\n",
        "source leaprc.gaff2\n",
        "source leaprc.water.tip3p\n",
        "\n",
        "MOL = loadmol2 \"{compound_id}.mol2\"\n",
        "loadamberparams \"{compound_id}.frcmod\"\n",
        "\n",
        "solvatebox MOL TIP3PBOX 12.0\n",
        "\n",
        "saveamberparm MOL {compound_id}_solvated.prmtop {compound_id}_solvated.inpcrd\n",
        "savepdb MOL {compound_id}_solvated.pdb\n",
        "quit\n",
        "\"\"\"\n",
        "with open(\"tleap.in\", \"w\") as f: f.write(tleap_input)\n",
        "!tleap -f tleap.in > tleap.log\n",
        "!mv {compound_id}_* {workDir}/\n",
        "\n",
        "# STEP 5: Equilibration MD (short NPT)\n",
        "from openmm.app import *\n",
        "from openmm import *\n",
        "from openmm.unit import *\n",
        "import os\n",
        "\n",
        "# Load parameters\n",
        "Jobname = f\"{compound_id}_equil\"\n",
        "prmtop = AmberPrmtopFile(f\"{workDir}/{compound_id}_solvated.prmtop\")\n",
        "inpcrd = AmberInpcrdFile(f\"{workDir}/{compound_id}_solvated.inpcrd\")\n",
        "\n",
        "system = prmtop.createSystem(\n",
        "    nonbondedMethod=PME, nonbondedCutoff=1.0*nanometer,\n",
        "    constraints=HBonds, rigidWater=True, ewaldErrorTolerance=0.0005)\n",
        "system.addForce(MonteCarloBarostat(1*bar, 310*kelvin))\n",
        "\n",
        "integrator = LangevinIntegrator(310*kelvin, 1.0, 2*femtoseconds)\n",
        "integrator.setConstraintTolerance(0.000001)\n",
        "temperature = 310 * kelvin          # or whatever temperature you're using\n",
        "dt = 2 * femtoseconds               # or whatever timestep you want\n",
        "\n",
        "prod_integrator = LangevinIntegrator(temperature, 1.0, dt)\n",
        "prod_integrator.setConstraintTolerance(0.000001)\n",
        "\n",
        "simulation = Simulation(prmtop.topology, system, prod_integrator)\n",
        "\n",
        "simulation.context.setPositions(inpcrd.positions)\n",
        "if inpcrd.boxVectors: simulation.context.setPeriodicBoxVectors(*inpcrd.boxVectors)\n",
        "\n",
        "print(\"⚡ Minimizing...\")\n",
        "simulation.minimizeEnergy()\n",
        "simulation.context.setVelocitiesToTemperature(310*kelvin)\n",
        "\n",
        "# Output files\n",
        "dcd_file = f\"{workDir}/{Jobname}.dcd\"\n",
        "log_file = f\"{workDir}/{Jobname}.log\"\n",
        "rst_file = f\"{workDir}/{Jobname}.rst\"\n",
        "pdb_out = f\"{workDir}/{Jobname}.pdb\"\n",
        "\n",
        "simulation.reporters.append(DCDReporter(dcd_file, 100))\n",
        "simulation.reporters.append(StateDataReporter(log_file, 100, step=True, temperature=True, potentialEnergy=True))\n",
        "simulation.step(10000)  # ~20 ps\n",
        "\n",
        "state = simulation.context.getState(getPositions=True, getVelocities=True)\n",
        "with open(rst_file, 'w') as f: f.write(XmlSerializer.serialize(state))\n",
        "PDBFile.writeFile(simulation.topology, state.getPositions(), open(pdb_out, 'w'))\n",
        "\n",
        "# STEP 6: Production MD (2 ns)\n",
        "Jobname = f\"{compound_id}_prod\"\n",
        "prmtop = AmberPrmtopFile(f\"{workDir}/{compound_id}_solvated.prmtop\")\n",
        "inpcrd = AmberInpcrdFile(f\"{workDir}/{compound_id}_solvated.inpcrd\")\n",
        "simulation = Simulation(prmtop.topology, system, integrator)\n",
        "simulation.context.setPositions(inpcrd.positions)\n",
        "simulation.context.setPeriodicBoxVectors(*inpcrd.boxVectors)\n",
        "\n",
        "with open(f\"{workDir}/{compound_id}_equil.rst\", 'r') as f:\n",
        "    simulation.context.setState(XmlSerializer.deserialize(f.read()))\n",
        "\n",
        "# Output\n",
        "dcd_file = f\"{workDir}/{Jobname}_1.dcd\"\n",
        "log_file = f\"{workDir}/{Jobname}_1.log\"\n",
        "rst_file = f\"{workDir}/{Jobname}_1.rst\"\n",
        "pdb_out = f\"{workDir}/{Jobname}_1.pdb\"\n",
        "\n",
        "simulation.reporters.clear()\n",
        "simulation.reporters.append(DCDReporter(dcd_file, 500))\n",
        "simulation.reporters.append(StateDataReporter(log_file, 500, step=True, temperature=True, potentialEnergy=True))\n",
        "simulation.step(1000000)  # 2 ns\n",
        "\n",
        "state = simulation.context.getState(getPositions=True, getVelocities=True)\n",
        "with open(rst_file, 'w') as f: f.write(XmlSerializer.serialize(state))\n",
        "PDBFile.writeFile(simulation.topology, state.getPositions(), open(pdb_out, 'w'))\n",
        "\n",
        "# STEP 7: Strip waters + align trajectory\n",
        "import MDAnalysis as mda\n",
        "from MDAnalysis.analysis import align\n",
        "import pytraj as pt\n",
        "\n",
        "pdb = f\"{workDir}/{compound_id}_equil.pdb\"\n",
        "traj = f\"{workDir}/{compound_id}_prod_1.dcd\"\n",
        "u = mda.Universe(pdb, traj)\n",
        "ref = mda.Universe(pdb)\n",
        "\n",
        "align.AlignTraj(u, ref, select='all', in_memory=True).run()\n",
        "stripped = u.select_atoms(\"not resname HOH\")\n",
        "\n",
        "nw_dcd = f\"{workDir}/{compound_id}_prod_1-1_nw.dcd\"\n",
        "nw_pdb = f\"{workDir}/{compound_id}_prod_nw.pdb\"\n",
        "with mda.Writer(nw_dcd, stripped.n_atoms) as W:\n",
        "    for ts in u.trajectory:\n",
        "        W.write(stripped)\n",
        "stripped.write(nw_pdb)\n",
        "\n",
        "# STEP 8: Compute RMSD (heavy atoms only)\n",
        "from MDAnalysis.analysis import rms\n",
        "\n",
        "u = mda.Universe(nw_pdb, nw_dcd)\n",
        "ref = mda.Universe(nw_pdb)\n",
        "\n",
        "mobile_atoms = u.select_atoms(\"not name H*\")\n",
        "reference_atoms = ref.select_atoms(\"not name H*\")\n",
        "\n",
        "R = rms.RMSD(mobile_atoms, reference_atoms).run()\n",
        "rmsd = R.rmsd[:, 2]  # RMSD column in Å\n",
        "\n",
        "print(\"✅ RMSD array ready! Shape:\", rmsd.shape)\n"
      ],
      "metadata": {
        "id": "H1n-XhsVZIrH",
        "outputId": "63560392-77bc-4743-954a-8aadabd451bc",
        "colab": {
          "base_uri": "https://localhost:8080/"
        },
        "cellView": "form"
      },
      "execution_count": null,
      "outputs": [
        {
          "output_type": "stream",
          "name": "stdout",
          "text": [
            "\n",
            "\n",
            "==> WARNING: A newer version of conda exists. <==\n",
            "    current version: 24.11.3\n",
            "    latest version: 25.5.1\n",
            "\n",
            "Please update conda by running\n",
            "\n",
            "    $ conda update -n base -c conda-forge conda\n",
            "\n",
            "\n",
            "Info: acdoctor mode is on: check and diagnose problems in the input file.\n",
            "Info: The atom type is set to gaff; the options available to the -at flag are\n",
            "      gaff, gaff2, amber, bcc, abcg2, and sybyl.\n",
            "\n",
            "-- Check Format for sdf File --\n",
            "   Status: pass\n",
            "Info: Determining atomic numbers from atomic symbols which are case sensitive.\n",
            "Running: /usr/local/bin/bondtype -j full -i ANTECHAMBER_BOND_TYPE.AC0 -o ANTECHAMBER_BOND_TYPE.AC -f ac\n",
            "\n",
            "Running: /usr/local/bin/atomtype -i ANTECHAMBER_AC.AC0 -o ANTECHAMBER_AC.AC -p gaff\n",
            "Info: Total number of electrons: 302; net charge: 0\n",
            "\n",
            "Running: /usr/local/bin/sqm -O -i sqm.in -o sqm.out\n",
            "\n",
            "Running: /usr/local/bin/am1bcc -i ANTECHAMBER_AM1BCC_PRE.AC -o ANTECHAMBER_AM1BCC.AC -f ac -t bcc -p /usr/local/dat/antechamber/BCCPARM.DAT -s 2 -j 1\n",
            "\n",
            "Running: /usr/local/bin/atomtype -f ac -p bcc -o ANTECHAMBER_AM1BCC.AC -i ANTECHAMBER_AM1BCC_PRE.AC\n",
            "\n",
            "⚡ Minimizing...\n"
          ]
        },
        {
          "output_type": "stream",
          "name": "stderr",
          "text": [
            "/usr/local/lib/python3.11/site-packages/MDAnalysis/coordinates/DCD.py:165: DeprecationWarning: DCDReader currently makes independent timesteps by copying self.ts while other readers update self.ts inplace. This behavior will be changed in 3.0 to be the same as other readers. Read more at https://github.com/MDAnalysis/mdanalysis/issues/3889 to learn if this change in behavior might affect you.\n",
            "  warnings.warn(\"DCDReader currently makes independent timesteps\"\n",
            "/usr/local/lib/python3.11/site-packages/MDAnalysis/coordinates/PDB.py:1154: UserWarning: Found no information for attr: 'formalcharges' Using default value of '0'\n",
            "  warnings.warn(\"Found no information for attr: '{}'\"\n"
          ]
        },
        {
          "output_type": "stream",
          "name": "stdout",
          "text": [
            "✅ RMSD array ready! Shape: (2000,)\n"
          ]
        },
        {
          "output_type": "stream",
          "name": "stderr",
          "text": [
            "/usr/local/lib/python3.11/site-packages/MDAnalysis/analysis/rms.py:824: DeprecationWarning: The `rmsd` attribute was deprecated in MDAnalysis 2.0.0 and will be removed in MDAnalysis 3.0.0. Please use `results.rmsd` instead.\n",
            "  warnings.warn(wmsg, DeprecationWarning)\n"
          ]
        }
      ]
    },
    {
      "cell_type": "code",
      "metadata": {
        "id": "ZHyMpikjuaLT",
        "cellView": "form",
        "outputId": "ff1f0e44-521b-4cf3-8353-2f3f3997d754",
        "colab": {
          "base_uri": "https://localhost:8080/",
          "height": 569
        }
      },
      "source": [
        "#@title **Plot RMSD as a ditribution**\n",
        "\n",
        "#@markdown **Provide output file names below:**\n",
        "Output_name = 'rmsd_dist' #@param {type:\"string\"}\n",
        "\n",
        "ax = sb.kdeplot(rmsd, color=\"blue\", shade=True, alpha=0.2, linewidth=0.5)\n",
        "plt.xlabel('RMSD [$\\AA$]', fontsize = 14, fontweight = 'bold')\n",
        "plt.xticks(fontsize = 12)\n",
        "plt.yticks([])\n",
        "plt.ylabel('')\n",
        "ax.spines['top'].set_visible(False)\n",
        "ax.spines['right'].set_visible(False)\n",
        "ax.spines['bottom'].set_visible(True)\n",
        "ax.spines['left'].set_visible(False)\n",
        "\n",
        "plt.savefig(os.path.join(workDir, Output_name + \".png\"), dpi=600, bbox_inches='tight')"
      ],
      "execution_count": null,
      "outputs": [
        {
          "output_type": "stream",
          "name": "stderr",
          "text": [
            "/tmp/ipython-input-12-3230664298.py:6: FutureWarning: \n",
            "\n",
            "`shade` is now deprecated in favor of `fill`; setting `fill=True`.\n",
            "This will become an error in seaborn v0.14.0; please update your code.\n",
            "\n",
            "  ax = sb.kdeplot(rmsd, color=\"blue\", shade=True, alpha=0.2, linewidth=0.5)\n"
          ]
        },
        {
          "output_type": "display_data",
          "data": {
            "text/plain": [
              "<Figure size 640x480 with 1 Axes>"
            ],
            "image/png": "[encoded data removed]"
          },
          "metadata": {}
        }
      ]
    }
  ]
}