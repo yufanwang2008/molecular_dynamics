{
  "nbformat": 4,
  "nbformat_minor": 0,
  "metadata": {
    "accelerator": "GPU",
    "colab": {
      "provenance": [],
      "include_colab_link": true
    },
    "kernelspec": {
      "display_name": "Python 3",
      "name": "python3"
    }
  },
  "cells": [
    {
      "cell_type": "markdown",
      "metadata": {
        "id": "view-in-github",
        "colab_type": "text"
      },
      "source": [
        "<a href=\"https://colab.research.google.com/github/yufanwang2008/molecular_dynamics/blob/main/Amber.ipynb\" target=\"_parent\"><img src=\"https://colab.research.google.com/assets/colab-badge.svg\" alt=\"Open In Colab\"/></a>"
      ]
    },
    {
      "cell_type": "code",
      "source": [
        "#@title **Install Conda Colab**\n",
        "#@markdown It will restart the kernel (session), don't worry.\n",
        "!pip install -q condacolab\n",
        "import condacolab\n",
        "condacolab.install()"
      ],
      "metadata": {
        "cellView": "form",
        "id": "mBFASF7ICxWi"
      },
      "execution_count": null,
      "outputs": []
    },
    {
      "cell_type": "code",
      "source": [
        "#@title **Install dependencies**\n",
        "#@markdown It will take a few minutes, please, drink a coffee and wait. ;-)\n",
        "# install dependencies\n",
        "import subprocess\n",
        "import sys\n",
        "subprocess.run(\"rm -rf /usr/local/conda-meta/pinned\", shell=True)\n",
        "subprocess.run(\"mamba install -c conda-forge ambertools -y\", shell=True)\n",
        "import pytraj as pt\n",
        "subprocess.run(\"pip -q install py3Dmol\", shell=True)\n",
        "subprocess.run(\"pip install git+https://github.com/pablo-arantes/biopandas\", shell=True)\n",
        "subprocess.run(\"mamba install openmm\", shell=True)\n",
        "subprocess.run(\"pip install --upgrade MDAnalysis\", shell=True)\n",
        "\n",
        "#load dependencies\n",
        "import sys\n",
        "from biopandas.pdb import PandasPdb\n",
        "import openmm as mm\n",
        "from openmm import *\n",
        "from openmm.app import *\n",
        "from openmm.unit import *\n",
        "import os\n",
        "import urllib.request\n",
        "import numpy as np\n",
        "import MDAnalysis as mda\n",
        "import py3Dmol\n",
        "import pytraj as pt\n",
        "import platform\n",
        "import scipy.cluster.hierarchy\n",
        "from scipy.spatial.distance import squareform\n",
        "import scipy.stats as stats\n",
        "import matplotlib.pyplot as plt\n",
        "import pandas as pd\n",
        "from scipy.interpolate import griddata\n",
        "import seaborn as sb\n",
        "from statistics import mean, stdev\n",
        "from pytraj import matrix\n",
        "from matplotlib import colors\n",
        "from IPython.display import set_matplotlib_formats\n",
        "import subprocess"
      ],
      "metadata": {
        "cellView": "form",
        "id": "n0XmYfH1C2we"
      },
      "execution_count": null,
      "outputs": []
    },
    {
      "cell_type": "code",
      "metadata": {
        "id": "Lm7Akepv_vl-",
        "cellView": "form",
        "outputId": "5fa97a88-6172-4403-8cac-191f23825e16",
        "colab": {
          "base_uri": "https://localhost:8080/"
        }
      },
      "source": [
        "#@title ### **Import Google Drive**\n",
        "#@markdown Click in the \"Run\" buttom to make your Google Drive accessible.\n",
        "from google.colab import drive\n",
        "\n",
        "drive.flush_and_unmount()\n",
        "drive.mount('/content/drive', force_remount=True)"
      ],
      "execution_count": null,
      "outputs": [
        {
          "output_type": "stream",
          "name": "stdout",
          "text": [
            "Mounted at /content/drive\n"
          ]
        }
      ]
    },
    {
      "cell_type": "code",
      "metadata": {
        "id": "lOKg9eH_ueRn",
        "cellView": "form"
      },
      "source": [
        "#@title **Check if you correctly allocated GPU nodes**\n",
        "\n",
        "gpu_info = !nvidia-smi\n",
        "gpu_info = '\\n'.join(gpu_info)\n",
        "if gpu_info.find('failed') >= 0:\n",
        "  print('Select the Runtime > \"Change runtime type\" menu to enable a GPU accelerator, ')\n",
        "  print('and then re-execute this cell.')\n",
        "else:\n",
        "  print(gpu_info)"
      ],
      "execution_count": null,
      "outputs": []
    },
    {
      "cell_type": "markdown",
      "source": [],
      "metadata": {
        "id": "TmmP_e_qkN34"
      }
    },
    {
      "cell_type": "code",
      "source": [
        "#@title **From SDF to RMSD**\n",
        "# STEP 1: Setup\n",
        "compound_id = '' #@param {type:\"string\"}\n",
        "sdf_file = f\"/content/drive/MyDrive/molecular_dynamics/{compound_id}.sdf\"\n",
        "workDir = \"/content/drive/MyDrive/molecular_dynamics\"\n",
        "os.makedirs(workDir, exist_ok=True)\n",
        "\n",
        "# STEP 2: AmberTools setup\n",
        "!conda install -y -c conda-forge ambertools > /dev/null\n",
        "\n",
        "# STEP 3: Convert SDF to mol2 and frcmod\n",
        "!cp {sdf_file} /content/\n",
        "!antechamber -i {compound_id}.sdf -fi sdf -o {compound_id}.mol2 -fo mol2 -c bcc -s 2 -at gaff -nc 0 -m 1\n",
        "!parmchk2 -i {compound_id}.mol2 -f mol2 -o {compound_id}.frcmod\n",
        "\n",
        "# STEP 4: Solvate with tleap\n",
        "tleap_input = f\"\"\"\n",
        "source leaprc.gaff2\n",
        "source leaprc.water.tip3p\n",
        "\n",
        "MOL = loadmol2 \"{compound_id}.mol2\"\n",
        "loadamberparams \"{compound_id}.frcmod\"\n",
        "\n",
        "solvatebox MOL TIP3PBOX 12.0\n",
        "\n",
        "saveamberparm MOL {compound_id}_solvated.prmtop {compound_id}_solvated.inpcrd\n",
        "savepdb MOL {compound_id}_solvated.pdb\n",
        "quit\n",
        "\"\"\"\n",
        "with open(\"tleap.in\", \"w\") as f: f.write(tleap_input)\n",
        "!tleap -f tleap.in > tleap.log\n",
        "!mv {compound_id}_* {workDir}/\n",
        "\n",
        "# STEP 5: Equilibration MD (short NPT)\n",
        "from openmm.app import *\n",
        "from openmm import *\n",
        "from openmm.unit import *\n",
        "import os\n",
        "\n",
        "# Load parameters\n",
        "Jobname = f\"{compound_id}_equil\"\n",
        "prmtop = AmberPrmtopFile(f\"{workDir}/{compound_id}_solvated.prmtop\")\n",
        "inpcrd = AmberInpcrdFile(f\"{workDir}/{compound_id}_solvated.inpcrd\")\n",
        "\n",
        "system = prmtop.createSystem(\n",
        "    nonbondedMethod=PME, nonbondedCutoff=1.0*nanometer,\n",
        "    constraints=HBonds, rigidWater=True, ewaldErrorTolerance=0.0005)\n",
        "system.addForce(MonteCarloBarostat(1*bar, 310*kelvin))\n",
        "\n",
        "integrator = LangevinIntegrator(310*kelvin, 1.0, 2*femtoseconds)\n",
        "integrator.setConstraintTolerance(0.000001)\n",
        "temperature = 310 * kelvin          # or whatever temperature you're using\n",
        "dt = 2 * femtoseconds               # or whatever timestep you want\n",
        "\n",
        "prod_integrator = LangevinIntegrator(temperature, 1.0, dt)\n",
        "prod_integrator.setConstraintTolerance(0.000001)\n",
        "\n",
        "simulation = Simulation(prmtop.topology, system, prod_integrator)\n",
        "\n",
        "simulation.context.setPositions(inpcrd.positions)\n",
        "if inpcrd.boxVectors: simulation.context.setPeriodicBoxVectors(*inpcrd.boxVectors)\n",
        "\n",
        "print(\"⚡ Minimizing...\")\n",
        "simulation.minimizeEnergy()\n",
        "simulation.context.setVelocitiesToTemperature(310*kelvin)\n",
        "\n",
        "# Output files\n",
        "dcd_file = f\"{workDir}/{Jobname}.dcd\"\n",
        "log_file = f\"{workDir}/{Jobname}.log\"\n",
        "rst_file = f\"{workDir}/{Jobname}.rst\"\n",
        "pdb_out = f\"{workDir}/{Jobname}.pdb\"\n",
        "\n",
        "simulation.reporters.append(DCDReporter(dcd_file, 100))\n",
        "simulation.reporters.append(StateDataReporter(log_file, 100, step=True, temperature=True, potentialEnergy=True))\n",
        "simulation.step(10000)  # ~20 ps\n",
        "\n",
        "state = simulation.context.getState(getPositions=True, getVelocities=True)\n",
        "with open(rst_file, 'w') as f: f.write(XmlSerializer.serialize(state))\n",
        "PDBFile.writeFile(simulation.topology, state.getPositions(), open(pdb_out, 'w'))\n",
        "\n",
        "# STEP 6: Production MD (2 ns)\n",
        "Jobname = f\"{compound_id}_prod\"\n",
        "prmtop = AmberPrmtopFile(f\"{workDir}/{compound_id}_solvated.prmtop\")\n",
        "inpcrd = AmberInpcrdFile(f\"{workDir}/{compound_id}_solvated.inpcrd\")\n",
        "simulation = Simulation(prmtop.topology, system, integrator)\n",
        "simulation.context.setPositions(inpcrd.positions)\n",
        "simulation.context.setPeriodicBoxVectors(*inpcrd.boxVectors)\n",
        "\n",
        "with open(f\"{workDir}/{compound_id}_equil.rst\", 'r') as f:\n",
        "    simulation.context.setState(XmlSerializer.deserialize(f.read()))\n",
        "\n",
        "# Output\n",
        "dcd_file = f\"{workDir}/{Jobname}_1.dcd\"\n",
        "log_file = f\"{workDir}/{Jobname}_1.log\"\n",
        "rst_file = f\"{workDir}/{Jobname}_1.rst\"\n",
        "pdb_out = f\"{workDir}/{Jobname}_1.pdb\"\n",
        "\n",
        "simulation.reporters.clear()\n",
        "simulation.reporters.append(DCDReporter(dcd_file, 500))\n",
        "simulation.reporters.append(StateDataReporter(log_file, 500, step=True, temperature=True, potentialEnergy=True))\n",
        "simulation.step(1000000)  # 2 ns\n",
        "\n",
        "state = simulation.context.getState(getPositions=True, getVelocities=True)\n",
        "with open(rst_file, 'w') as f: f.write(XmlSerializer.serialize(state))\n",
        "PDBFile.writeFile(simulation.topology, state.getPositions(), open(pdb_out, 'w'))\n",
        "\n",
        "# STEP 7: Strip waters + align trajectory\n",
        "import MDAnalysis as mda\n",
        "from MDAnalysis.analysis import align\n",
        "import pytraj as pt\n",
        "\n",
        "pdb = f\"{workDir}/{compound_id}_equil.pdb\"\n",
        "traj = f\"{workDir}/{compound_id}_prod_1.dcd\"\n",
        "u = mda.Universe(pdb, traj)\n",
        "ref = mda.Universe(pdb)\n",
        "\n",
        "align.AlignTraj(u, ref, select='all', in_memory=True).run()\n",
        "stripped = u.select_atoms(\"not resname HOH\")\n",
        "\n",
        "nw_dcd = f\"{workDir}/{compound_id}_prod_1-1_nw.dcd\"\n",
        "nw_pdb = f\"{workDir}/{compound_id}_prod_nw.pdb\"\n",
        "with mda.Writer(nw_dcd, stripped.n_atoms) as W:\n",
        "    for ts in u.trajectory:\n",
        "        W.write(stripped)\n",
        "stripped.write(nw_pdb)\n",
        "\n",
        "# STEP 8: Compute RMSD (heavy atoms only)\n",
        "from MDAnalysis.analysis import rms\n",
        "\n",
        "u = mda.Universe(nw_pdb, nw_dcd)\n",
        "ref = mda.Universe(nw_pdb)\n",
        "\n",
        "mobile_atoms = u.select_atoms(\"not name H*\")\n",
        "reference_atoms = ref.select_atoms(\"not name H*\")\n",
        "\n",
        "R = rms.RMSD(mobile_atoms, reference_atoms).run()\n",
        "rmsd = R.rmsd[:, 2]  # RMSD column in Å\n",
        "\n",
        "print(\"✅ RMSD array ready! Shape:\", rmsd.shape)\n"
      ],
      "metadata": {
        "id": "H1n-XhsVZIrH",
        "cellView": "form"
      },
      "execution_count": null,
      "outputs": []
    },
    {
      "cell_type": "code",
      "metadata": {
        "id": "ZHyMpikjuaLT",
        "cellView": "form"
      },
      "source": [
        "#@title **Plot RMSD as a ditribution**\n",
        "\n",
        "#@markdown **Provide output file names below:**\n",
        "Output_name = 'rmsd_dist' #@param {type:\"string\"}\n",
        "\n",
        "ax = sb.kdeplot(rmsd, color=\"blue\", shade=True, alpha=0.2, linewidth=0.5)\n",
        "plt.xlabel('RMSD [$\\AA$]', fontsize = 14, fontweight = 'bold')\n",
        "plt.xticks(fontsize = 12)\n",
        "plt.yticks([])\n",
        "plt.ylabel('')\n",
        "ax.spines['top'].set_visible(False)\n",
        "ax.spines['right'].set_visible(False)\n",
        "ax.spines['bottom'].set_visible(True)\n",
        "ax.spines['left'].set_visible(False)\n",
        "\n",
        "plt.savefig(os.path.join(workDir, Output_name + \".png\"), dpi=600, bbox_inches='tight')"
      ],
      "execution_count": null,
      "outputs": []
    }
  ]
}